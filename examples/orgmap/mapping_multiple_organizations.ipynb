{
 "cells": [
  {
   "cell_type": "markdown",
   "metadata": {},
   "source": [
    "# Mapping multiple organizations with getorg\n",
    "This generates the data that is used for [this markercluster leaflet HTML/Javascript page](http://getorg.github.io/jupyter_map/), which runs entirely on the viewer's web browser. \n",
    "## Installation\n",
    "We need a few packages for this, which can be installed with pip:"
   ]
  },
  {
   "cell_type": "code",
   "execution_count": 1,
   "metadata": {
    "collapsed": false,
    "scrolled": true
   },
   "outputs": [
    {
     "name": "stdout",
     "output_type": "stream",
     "text": [
      "Requirement already up-to-date: getorg in /home/vm/anaconda3/lib/python3.5/site-packages\n",
      "Requirement already up-to-date: geopy in /home/vm/anaconda3/lib/python3.5/site-packages (from getorg)\n",
      "Requirement already up-to-date: retrying in /home/vm/anaconda3/lib/python3.5/site-packages (from getorg)\n",
      "Requirement already up-to-date: pygithub in /home/vm/anaconda3/lib/python3.5/site-packages (from getorg)\n",
      "Requirement already up-to-date: six>=1.7.0 in /home/vm/anaconda3/lib/python3.5/site-packages (from retrying->getorg)\n",
      "Requirement already satisfied (use --upgrade to upgrade): ipyleaflet in /home/vm/anaconda3/lib/python3.5/site-packages\n",
      "Requirement already satisfied (use --upgrade to upgrade): ipywidgets>=5.1.5 in /home/vm/anaconda3/lib/python3.5/site-packages (from ipyleaflet)\n",
      "Requirement already satisfied (use --upgrade to upgrade): traitlets>=4.2.1 in /home/vm/anaconda3/lib/python3.5/site-packages (from ipywidgets>=5.1.5->ipyleaflet)\n",
      "Requirement already satisfied (use --upgrade to upgrade): ipython>=4.0.0 in /home/vm/anaconda3/lib/python3.5/site-packages (from ipywidgets>=5.1.5->ipyleaflet)\n",
      "Requirement already satisfied (use --upgrade to upgrade): widgetsnbextension>=1.2.6 in /home/vm/anaconda3/lib/python3.5/site-packages (from ipywidgets>=5.1.5->ipyleaflet)\n",
      "Requirement already satisfied (use --upgrade to upgrade): ipykernel>=4.2.2 in /home/vm/anaconda3/lib/python3.5/site-packages (from ipywidgets>=5.1.5->ipyleaflet)\n",
      "Requirement already satisfied (use --upgrade to upgrade): notebook>=4.2.0 in /home/vm/anaconda3/lib/python3.5/site-packages (from widgetsnbextension>=1.2.6->ipywidgets>=5.1.5->ipyleaflet)\n",
      "Unrecognized JSON config file version, assuming version 1\n",
      "Enabling notebook extension jupyter-leaflet/extension...\n",
      "      - Validating: \u001b[32mOK\u001b[0m\n"
     ]
    }
   ],
   "source": [
    "!pip install getorg --upgrade\n",
    "!pip install ipyleaflet\n",
    "!jupyter nbextension enable --py ipyleaflet"
   ]
  },
  {
   "cell_type": "code",
   "execution_count": 2,
   "metadata": {
    "collapsed": false
   },
   "outputs": [
    {
     "name": "stdout",
     "output_type": "stream",
     "text": [
      "IPywidgets and ipyleaflet support enabled.\n"
     ]
    }
   ],
   "source": [
    "import getorg\n",
    "from github import Github\n",
    "import ghlogin\n",
    "gh = Github(login_or_token=ghlogin.gh_key)"
   ]
  },
  {
   "cell_type": "markdown",
   "metadata": {},
   "source": [
    "### Example: querying Jupyter and IPython organizations\n",
    "We first create a list containing strings of all the organizations. You can also just send a single organization, in either a list of one or just a string."
   ]
  },
  {
   "cell_type": "code",
   "execution_count": 3,
   "metadata": {
    "collapsed": true
   },
   "outputs": [],
   "source": [
    "orgs = [\"jupyter\",\"ipython\",\"jupyter-attic\",\"jupyterhub\"]"
   ]
  },
  {
   "cell_type": "markdown",
   "metadata": {
    "collapsed": false
   },
   "source": [
    "Then we call the method, with the github object, list of organizations, and optional debug and excluded username parameters. Note: it takes 20-30 minutes of 'wall time' to get all the contributor locations for each of these organizations."
   ]
  },
  {
   "cell_type": "code",
   "execution_count": 4,
   "metadata": {
    "collapsed": false
   },
   "outputs": [
    {
     "name": "stdout",
     "output_type": "stream",
     "text": [
      "\n",
      "Querying organization Project Jupyter\n",
      "\n",
      "Querying repository nbviewer\n",
      "............................................\n",
      "Querying repository nbconvert-examples\n",
      ".....\n",
      "Querying repository colaboratory\n",
      ".............\n",
      "Querying repository jupyter.github.io\n",
      "...................\n",
      "Querying repository design\n",
      ".........\n",
      "Querying repository nbcache\n",
      "..\n",
      "Querying repository nbgrader\n",
      "............\n",
      "Querying repository tmpnb\n",
      ".....................\n",
      "Querying repository nature-demo\n",
      "......\n",
      "Querying repository jupyter-drive\n",
      ".........\n",
      "Querying repository tmpnb-redirector\n",
      "...\n",
      "Querying repository tmpnb-deploy\n",
      "...\n",
      "Querying repository docker-demo-images\n",
      "......................\n",
      "Querying repository try.jupyter.org\n",
      "...\n",
      "Querying repository strata-sv-2015-tutorial\n",
      "..\n",
      "Querying repository testpath\n",
      ".\n",
      "Querying repository scipy-2015-advanced-topics\n",
      ".\n",
      "Querying repository jupyter_core\n",
      "..............\n",
      "Querying repository nbformat\n",
      "........................\n",
      "Querying repository jupyter_client\n",
      "..................................................\n",
      "......\n",
      "Querying repository notebook\n",
      "..................................................\n",
      "..................................................\n",
      "..................................................\n",
      "..................................................\n",
      "................................\n",
      "Querying repository nbconvert\n",
      "..................................................\n",
      "...........................................\n",
      "Querying repository jupyter_console\n",
      "............................\n",
      "Querying repository qtconsole\n",
      "..................................................\n",
      "..............\n",
      "Querying repository jupyter_logger\n",
      "..\n",
      "Querying repository jupyter_kernel_test\n",
      "........\n",
      "Querying repository jupyter\n",
      "..........................\n",
      "Querying repository ngcm-tutorial\n",
      "......\n",
      "Querying repository scipy-advanced-tutorial\n",
      "....\n",
      "Querying repository docker-stacks\n",
      ".........................\n",
      "Querying repository lbnl-jupyterday\n",
      "....\n",
      "Querying repository jupyter-js-services\n",
      "............\n",
      "Querying repository atom-notebook\n",
      ".....\n",
      "Querying repository enhancement-proposals\n",
      ".......\n",
      "Querying repository governance\n",
      "..........\n",
      "Querying repository jupyter-blog-theme\n",
      "..\n",
      "Querying repository kernel_gateway\n",
      "............\n",
      "Querying repository cdn.jupyter.org\n",
      "...\n",
      "Querying repository roadmap\n",
      "...............\n",
      "Querying repository mozfest15-training\n",
      "...\n",
      "Querying repository nbdime\n",
      ".......\n",
      "Querying repository jupyter-js-utils\n",
      ".........\n",
      "Querying repository kernel_gateway_demos\n",
      "........\n",
      "Querying repository newsletter\n",
      ".....\n",
      "Querying repository jupyter-sphinx-theme\n",
      ".........................\n",
      "Querying repository help\n",
      ".........\n",
      "Querying repository widget-cookiecutter\n",
      "...\n",
      "Querying repository surveys\n",
      "..\n",
      "Querying repository jupyterlab\n",
      "..............................\n",
      "Querying repository experiments\n",
      ".\n",
      "Querying repository jupyter-sprints\n",
      ".\n",
      "Querying repository scipy-sprint\n",
      ".\n",
      "Querying organization IPython\n",
      "\n",
      "Querying repository ipython\n",
      "..................................................\n",
      "..................................................\n",
      "..................................................\n",
      "..................................................\n",
      "..................................................\n",
      "..................................................\n",
      "..................................................\n",
      "..................................................\n",
      "..................................................\n",
      "\n",
      "Querying repository ipython-py3k\n",
      "...................\n",
      "Querying repository ipython-doc\n",
      "..\n",
      "Querying repository ipython-website\n",
      "...............................\n",
      "Querying repository ipython.github.com\n",
      "......\n",
      "Querying repository ipython-in-depth\n",
      "...............\n",
      "Querying repository talks\n",
      "..\n",
      "Querying repository marketing\n",
      "....\n",
      "Querying repository paper-notebook2013\n",
      "..\n",
      "Querying repository xkcd-font\n",
      ".....\n",
      "Querying repository salt-states-nbviewer\n",
      "....\n",
      "Querying repository traitlets\n",
      ".........................................\n",
      "Querying repository sloan-2013-reports\n",
      "..\n",
      "Querying repository usersurveys\n",
      ".\n",
      "Querying repository ipython-ansible-jenkins\n",
      "...\n",
      "Querying repository front-to-back\n",
      "..\n",
      "Querying repository mozfest2014\n",
      "...\n",
      "Querying repository ipython_genutils\n",
      "........................\n",
      "Querying repository ipyparallel\n",
      "..................................................\n",
      "...................\n",
      "Querying repository ipykernel\n",
      "..................................................\n",
      ".............\n",
      "Querying repository ipywidgets\n",
      "..................................................\n",
      "..........\n",
      "Querying organization The Jupyter Attic\n",
      "\n",
      "Querying repository jsplugins\n",
      "..\n",
      "Querying repository ipython-components\n",
      "..........\n",
      "Querying repository etph\n",
      ".\n",
      "Querying repository docker-notebook\n",
      "..............\n",
      "Querying repository nbindex\n",
      "..\n",
      "Querying repository nbshot\n",
      "..\n",
      "Querying repository phosphor-notebook\n",
      ".....\n",
      "Querying repository spreadsheet\n",
      "....\n",
      "Querying repository jupyter-js-output-area\n",
      "......\n",
      "Querying repository jupyter-js-input-area\n",
      ".....\n",
      "Querying repository jupyter-js-cells\n",
      "...\n",
      "Querying repository jupyter-js-notebook\n",
      ".......\n",
      "Querying repository jupyter-js-filebrowser\n",
      "......\n",
      "Querying repository jupyter-js-editor\n",
      "...\n",
      "Querying repository jupyter-js-terminal\n",
      ".....\n",
      "Querying repository jupyter-js-phosphide\n",
      "...\n",
      "Querying repository jupyter-js-plugins\n",
      "..........\n",
      "Querying repository jupyter-js-domutils\n",
      "...\n",
      "Querying repository jupyter-js-docmanager\n",
      "...\n",
      "Querying repository jupyter-js-ui\n",
      ".......\n",
      "Querying organization JupyterHub\n",
      "\n",
      "Querying repository jupyterhub\n",
      "...............................................\n",
      "Querying repository configurable-http-proxy\n",
      "......\n",
      "Querying repository oauthenticator\n",
      ".................\n",
      "Querying repository dockerspawner\n",
      ".......................\n",
      "Querying repository sudospawner\n",
      ".....\n",
      "Querying repository batchspawner\n",
      ".....\n",
      "Querying repository ldapauthenticator\n",
      ".\n",
      "Querying repository jupyterhub-deploy-docker\n",
      "...\n",
      "Querying repository jupyterhub-deploy-teaching\n",
      "....\n",
      "Querying repository jupyterhub-carina\n",
      "...\n",
      "Querying repository jupyterhub-tutorial\n",
      "....\n",
      "Querying repository jupyterhub-2016-workshop\n",
      ".............\n",
      "Querying repository jupyterhub-deploy-hpc\n",
      ".."
     ]
    }
   ],
   "source": [
    "org_map, org_locations, org_metadata = getorg.orgmap.map_orgs(gh, orgs, debug=2)"
   ]
  },
  {
   "cell_type": "code",
   "execution_count": 5,
   "metadata": {
    "collapsed": false,
    "scrolled": true
   },
   "outputs": [
    {
     "data": {
      "text/plain": [
       "{'duplicate_count': 592,\n",
       " 'error_count': 0,\n",
       " 'no_loc_count': 650,\n",
       " 'user_loc_count': 731}"
      ]
     },
     "execution_count": 5,
     "metadata": {},
     "output_type": "execute_result"
    }
   ],
   "source": [
    "org_metadata"
   ]
  },
  {
   "cell_type": "markdown",
   "metadata": {},
   "source": [
    "## Displaying the map\n",
    "In a Jupyter notebook with ipyleaflet support, we can display the map by referring to the org_map object. Note that these do not always render well if you are not running a notebook on a Jupyter server (i.e. if you are viewing this on github or nbviewer), so I've added a screenshot image to show what it looks like."
   ]
  },
  {
   "cell_type": "code",
   "execution_count": 6,
   "metadata": {
    "collapsed": false
   },
   "outputs": [],
   "source": [
    "org_map"
   ]
  },
  {
   "cell_type": "markdown",
   "metadata": {},
   "source": [
    "![jupyter map](images/jupyter-map.png)"
   ]
  },
  {
   "cell_type": "markdown",
   "metadata": {},
   "source": [
    "You can export this to embedable HTML files with the Widgets->Embed Widgets code in the Jupyter notebook menu bar.\n",
    "\n",
    "## Writing the map to a file\n"
   ]
  },
  {
   "cell_type": "markdown",
   "metadata": {
    "collapsed": true
   },
   "source": [
    "### location_dict_to_csv\n",
    "This outputs username/username hash, longitude, and latitude to a CSV file."
   ]
  },
  {
   "cell_type": "code",
   "execution_count": 8,
   "metadata": {
    "collapsed": false
   },
   "outputs": [
    {
     "data": {
      "text/plain": [
       "'Written to jupyter-locations.csv'"
      ]
     },
     "execution_count": 8,
     "metadata": {},
     "output_type": "execute_result"
    }
   ],
   "source": [
    "getorg.orgmap.location_dict_to_csv(org_locations, \"jupyter-locations.csv\", hashed_usernames=True)"
   ]
  },
  {
   "cell_type": "markdown",
   "metadata": {},
   "source": [
    "### output_html_cluster_map\n",
    "This generates a javascript variable file with all the location data, an HTML page to display a leaflet markercluster map, and all of the leaflet dependencies in a folder. You can open map.html to get a dynamic clustered map."
   ]
  },
  {
   "cell_type": "code",
   "execution_count": 9,
   "metadata": {
    "collapsed": false
   },
   "outputs": [
    {
     "data": {
      "text/plain": [
       "'Written map to jupyter_cluster_map/'"
      ]
     },
     "execution_count": 9,
     "metadata": {},
     "output_type": "execute_result"
    }
   ],
   "source": [
    "getorg.orgmap.output_html_cluster_map(org_locations,\"jupyter_cluster_map\")"
   ]
  },
  {
   "cell_type": "markdown",
   "metadata": {},
   "source": [
    "You can see the results in [this webpage](https://getorg.github.io/jupyter_map/), which I've screenshotted below:\n",
    "![jupytermap](images/markercluster.png)"
   ]
  },
  {
   "cell_type": "code",
   "execution_count": null,
   "metadata": {
    "collapsed": true
   },
   "outputs": [],
   "source": []
  }
 ],
 "metadata": {
  "anaconda-cloud": {},
  "kernelspec": {
   "display_name": "Python [Root]",
   "language": "python",
   "name": "Python [Root]"
  },
  "language_info": {
   "codemirror_mode": {
    "name": "ipython",
    "version": 3
   },
   "file_extension": ".py",
   "mimetype": "text/x-python",
   "name": "python",
   "nbconvert_exporter": "python",
   "pygments_lexer": "ipython3",
   "version": "3.5.2"
  },
  "widgets": {
   "state": {
    "4f9d49eb825c4b17889883acf4b0e52f": {
     "views": [
      {
       "cell_index": 10
      }
     ]
    }
   },
   "version": "1.2.0"
  }
 },
 "nbformat": 4,
 "nbformat_minor": 1
}
