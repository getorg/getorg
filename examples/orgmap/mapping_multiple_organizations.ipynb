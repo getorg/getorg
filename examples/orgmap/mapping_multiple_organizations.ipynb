{
 "cells": [
  {
   "cell_type": "markdown",
   "metadata": {},
   "source": [
    "# Mapping multiple organizations with getorg\n",
    "This generates the data that is used for [this markercluster leaflet HTML/Javascript page](http://getorg.github.io/jupyter_map/), which runs entirely on the viewer's web browser. \n",
    "## Installing and importing libraries\n",
    "We need a few packages for this, which can be installed with pip:"
   ]
  },
  {
   "cell_type": "code",
   "execution_count": 1,
   "metadata": {
    "collapsed": false,
    "scrolled": true
   },
   "outputs": [
    {
     "name": "stdout",
     "output_type": "stream",
     "text": [
      "Requirement already satisfied (use --upgrade to upgrade): getorg in /home/mam/getorg\n",
      "Requirement already satisfied (use --upgrade to upgrade): ipyleaflet in /home/mam/anaconda3/lib/python3.5/site-packages\n",
      "Requirement already satisfied (use --upgrade to upgrade): pygithub in /home/mam/anaconda3/lib/python3.5/site-packages (from getorg)\n",
      "Requirement already satisfied (use --upgrade to upgrade): geopy in /home/mam/anaconda3/lib/python3.5/site-packages (from getorg)\n",
      "Requirement already satisfied (use --upgrade to upgrade): retrying in /home/mam/anaconda3/lib/python3.5/site-packages (from getorg)\n",
      "Requirement already satisfied (use --upgrade to upgrade): ipywidgets>=5.1.5 in /home/mam/anaconda3/lib/python3.5/site-packages (from ipyleaflet)\n",
      "Requirement already satisfied (use --upgrade to upgrade): six>=1.7.0 in /home/mam/anaconda3/lib/python3.5/site-packages (from retrying->getorg)\n",
      "Requirement already satisfied (use --upgrade to upgrade): ipykernel>=4.2.2 in /home/mam/anaconda3/lib/python3.5/site-packages (from ipywidgets>=5.1.5->ipyleaflet)\n",
      "Requirement already satisfied (use --upgrade to upgrade): widgetsnbextension>=1.2.6 in /home/mam/anaconda3/lib/python3.5/site-packages (from ipywidgets>=5.1.5->ipyleaflet)\n",
      "Requirement already satisfied (use --upgrade to upgrade): traitlets>=4.2.1 in /home/mam/anaconda3/lib/python3.5/site-packages (from ipywidgets>=5.1.5->ipyleaflet)\n",
      "Requirement already satisfied (use --upgrade to upgrade): ipython>=4.0.0 in /home/mam/anaconda3/lib/python3.5/site-packages (from ipywidgets>=5.1.5->ipyleaflet)\n",
      "Requirement already satisfied (use --upgrade to upgrade): notebook>=4.2.0 in /home/mam/notebook (from widgetsnbextension>=1.2.6->ipywidgets>=5.1.5->ipyleaflet)\n",
      "Requirement already satisfied (use --upgrade to upgrade): decorator in /home/mam/anaconda3/lib/python3.5/site-packages (from traitlets>=4.2.1->ipywidgets>=5.1.5->ipyleaflet)\n",
      "Requirement already satisfied (use --upgrade to upgrade): ipython-genutils in /home/mam/anaconda3/lib/python3.5/site-packages (from traitlets>=4.2.1->ipywidgets>=5.1.5->ipyleaflet)\n",
      "Requirement already satisfied (use --upgrade to upgrade): pickleshare in /home/mam/anaconda3/lib/python3.5/site-packages (from ipython>=4.0.0->ipywidgets>=5.1.5->ipyleaflet)\n",
      "Requirement already satisfied (use --upgrade to upgrade): pygments in /home/mam/anaconda3/lib/python3.5/site-packages (from ipython>=4.0.0->ipywidgets>=5.1.5->ipyleaflet)\n",
      "Requirement already satisfied (use --upgrade to upgrade): pexpect; sys_platform != \"win32\" in /home/mam/anaconda3/lib/python3.5/site-packages (from ipython>=4.0.0->ipywidgets>=5.1.5->ipyleaflet)\n",
      "Requirement already satisfied (use --upgrade to upgrade): prompt-toolkit<2.0.0,>=1.0.3 in /home/mam/anaconda3/lib/python3.5/site-packages (from ipython>=4.0.0->ipywidgets>=5.1.5->ipyleaflet)\n",
      "Requirement already satisfied (use --upgrade to upgrade): simplegeneric>0.8 in /home/mam/anaconda3/lib/python3.5/site-packages (from ipython>=4.0.0->ipywidgets>=5.1.5->ipyleaflet)\n",
      "Requirement already satisfied (use --upgrade to upgrade): setuptools>=18.5 in /home/mam/anaconda3/lib/python3.5/site-packages (from ipython>=4.0.0->ipywidgets>=5.1.5->ipyleaflet)\n",
      "Requirement already satisfied (use --upgrade to upgrade): jinja2 in /home/mam/anaconda3/lib/python3.5/site-packages (from notebook>=4.2.0->widgetsnbextension>=1.2.6->ipywidgets>=5.1.5->ipyleaflet)\n",
      "Requirement already satisfied (use --upgrade to upgrade): tornado>=4 in /home/mam/anaconda3/lib/python3.5/site-packages (from notebook>=4.2.0->widgetsnbextension>=1.2.6->ipywidgets>=5.1.5->ipyleaflet)\n",
      "Requirement already satisfied (use --upgrade to upgrade): jupyter_core in /home/mam/anaconda3/lib/python3.5/site-packages (from notebook>=4.2.0->widgetsnbextension>=1.2.6->ipywidgets>=5.1.5->ipyleaflet)\n",
      "Requirement already satisfied (use --upgrade to upgrade): jupyter_client in /home/mam/anaconda3/lib/python3.5/site-packages (from notebook>=4.2.0->widgetsnbextension>=1.2.6->ipywidgets>=5.1.5->ipyleaflet)\n",
      "Requirement already satisfied (use --upgrade to upgrade): nbformat in /home/mam/anaconda3/lib/python3.5/site-packages (from notebook>=4.2.0->widgetsnbextension>=1.2.6->ipywidgets>=5.1.5->ipyleaflet)\n",
      "Requirement already satisfied (use --upgrade to upgrade): nbconvert in /home/mam/anaconda3/lib/python3.5/site-packages (from notebook>=4.2.0->widgetsnbextension>=1.2.6->ipywidgets>=5.1.5->ipyleaflet)\n",
      "Requirement already satisfied (use --upgrade to upgrade): terminado>=0.3.3 in /home/mam/anaconda3/lib/python3.5/site-packages (from notebook>=4.2.0->widgetsnbextension>=1.2.6->ipywidgets>=5.1.5->ipyleaflet)\n",
      "Requirement already satisfied (use --upgrade to upgrade): ptyprocess>=0.5 in /home/mam/anaconda3/lib/python3.5/site-packages (from pexpect; sys_platform != \"win32\"->ipython>=4.0.0->ipywidgets>=5.1.5->ipyleaflet)\n",
      "Requirement already satisfied (use --upgrade to upgrade): wcwidth in /home/mam/anaconda3/lib/python3.5/site-packages (from prompt-toolkit<2.0.0,>=1.0.3->ipython>=4.0.0->ipywidgets>=5.1.5->ipyleaflet)\n",
      "Requirement already satisfied (use --upgrade to upgrade): MarkupSafe in /home/mam/anaconda3/lib/python3.5/site-packages (from jinja2->notebook>=4.2.0->widgetsnbextension>=1.2.6->ipywidgets>=5.1.5->ipyleaflet)\n",
      "Requirement already satisfied (use --upgrade to upgrade): pyzmq>=13 in /home/mam/anaconda3/lib/python3.5/site-packages (from jupyter_client->notebook>=4.2.0->widgetsnbextension>=1.2.6->ipywidgets>=5.1.5->ipyleaflet)\n",
      "Requirement already satisfied (use --upgrade to upgrade): entrypoints in /home/mam/anaconda3/lib/python3.5/site-packages (from nbconvert->notebook>=4.2.0->widgetsnbextension>=1.2.6->ipywidgets>=5.1.5->ipyleaflet)\n",
      "Requirement already satisfied (use --upgrade to upgrade): mistune!=0.6 in /home/mam/anaconda3/lib/python3.5/site-packages (from nbconvert->notebook>=4.2.0->widgetsnbextension>=1.2.6->ipywidgets>=5.1.5->ipyleaflet)\n",
      "Unrecognized JSON config file version, assuming version 1\n",
      "Enabling notebook extension jupyter-leaflet/extension...\n",
      "      - Validating: \u001b[32mOK\u001b[0m\n"
     ]
    }
   ],
   "source": [
    "!pip install getorg --upgrade\n",
    "!pip install ipyleaflet\n",
    "!jupyter nbextension enable --py ipyleaflet"
   ]
  },
  {
   "cell_type": "markdown",
   "metadata": {},
   "source": [
    "To access the Github API, we use an object provided by pygithub. To make more than 60 queries per hour, you need to log in with your Github account. You can do this with your username and password by:\n",
    "\n",
    "    gh = Github(login_or_token=your_username, password=your_password).\n",
    "However, the better way is to [get an API token](https://github.com/settings/tokens) (you don't have to grant it any privileges to query public repositories) and pass this token. I've got mine stored in a file called ghlogin.py (which I have not uploaded to Github), which I import."
   ]
  },
  {
   "cell_type": "code",
   "execution_count": 2,
   "metadata": {
    "collapsed": false
   },
   "outputs": [
    {
     "name": "stdout",
     "output_type": "stream",
     "text": [
      "IPywidgets and ipyleaflet support enabled.\n"
     ]
    }
   ],
   "source": [
    "import getorg\n",
    "from github import Github\n",
    "import ghlogin\n",
    "gh = Github(login_or_token=ghlogin.gh_key)"
   ]
  },
  {
   "cell_type": "markdown",
   "metadata": {},
   "source": [
    "## Working with the orgmap module\n",
    "\n",
    "With this getorg notebook, we are working with the orgmap module, so all the functions are called with a prefix of:\n",
    "\n",
    "    getorg.orgmap.\n",
    "    \n",
    "The functions we will be using are:\n",
    "\n",
    "    getorg.orgmap.map_orgs()\n",
    "    getorg.orgmap.location_dict_to_csv()\n",
    "    getorg.orgmap.location_dict_to_jsvar()\n",
    "    \n",
    "## The map_orgs function\n",
    "\n",
    "### Parameters\n",
    "\n",
    "The getorg.orgmap.map_orgs function takes in two to four parameters:\n",
    "* github_obj: a Github API object, which we created when we logged in in the previous cell\n",
    "* org_list_or_object: A list of strings containing the names of organizations to map, a string containing a single organization, or a Github organization object\n",
    "* debug: A debug level (optional). \n",
    "  * 0 is silent, no output\n",
    "  * 1 (default) prints the name of the org queried and one character per contributor queried: . for success, E for error\n",
    "  * 2 (what we are calling here) prints everything in level 1, as well as the name of the repository queried\n",
    "  * 3 prints everything in level 2, as well as the location of each contributor or the error raised\n",
    "* exclude_usernames (optional): A list of strings containing usernames to exclude from the map and location dictionary\n",
    "  \n",
    "### Returned values\n",
    "\n",
    "The map_orgs function returns three objects:\n",
    "* org_map: an ipyleaflet Map object that will display inline in a Jupyter notebook (type: ipyleaflet.leaflet.Map)\n",
    "* org_locations: a dictionary with the key value pairs { Github username URL : geopy Location object }\n",
    "  * Note: geopy Location objects have many features. You can find the latitude and longitude in loc.latitude / loc.longitude, for example.\n",
    "* org_metadata: a dictionary with four key value pairs:\n",
    "  * user_loc_count: the number of unique usernames in the map and location dictionary\n",
    "  * error_count: the number of times an error was thrown when querying a contributor's location\n",
    "  * no_loc_count: the number of users who have no location set in their Github profile\n",
    "  * duplicate_count: the number of times a username was found in multiple repositories "
   ]
  },
  {
   "cell_type": "markdown",
   "metadata": {},
   "source": [
    "### Example: querying Jupyter and IPython organizations\n",
    "We first create a list containing strings of all the organizations. You can also just send a single organization, in either a list of one or just a string."
   ]
  },
  {
   "cell_type": "code",
   "execution_count": 3,
   "metadata": {
    "collapsed": true
   },
   "outputs": [],
   "source": [
    "orgs = [\"jupyter\",\"ipython\",\"jupyter-attic\",\"jupyterhub\"]"
   ]
  },
  {
   "cell_type": "markdown",
   "metadata": {
    "collapsed": false
   },
   "source": [
    "Then we call the method, with the github object, list of organizations, and optional debug and excluded username parameters. Note: it takes 20-30 minutes of 'wall time' to get all the contributor locations for each of these organizations."
   ]
  },
  {
   "cell_type": "code",
   "execution_count": 4,
   "metadata": {
    "collapsed": false
   },
   "outputs": [
    {
     "name": "stdout",
     "output_type": "stream",
     "text": [
      "\n",
      "Querying organization Project Jupyter\n",
      "\n",
      "Querying repository nbviewer\n",
      "............................................\n",
      "Querying repository nbconvert-examples\n",
      ".....\n",
      "Querying repository colaboratory\n",
      ".............\n",
      "Querying repository jupyter.github.io\n",
      "...................\n",
      "Querying repository design\n",
      ".........\n",
      "Querying repository nbcache\n",
      "..\n",
      "Querying repository nbgrader\n",
      "............\n",
      "Querying repository tmpnb\n",
      ".....................\n",
      "Querying repository nature-demo\n",
      "......\n",
      "Querying repository jupyter-drive\n",
      ".........\n",
      "Querying repository tmpnb-redirector\n",
      "...\n",
      "Querying repository tmpnb-deploy\n",
      "...\n",
      "Querying repository docker-demo-images\n",
      "......................\n",
      "Querying repository try.jupyter.org\n",
      "...\n",
      "Querying repository strata-sv-2015-tutorial\n",
      "..\n",
      "Querying repository testpath\n",
      ".\n",
      "Querying repository scipy-2015-advanced-topics\n",
      ".\n",
      "Querying repository jupyter_core\n",
      "..............\n",
      "Querying repository nbformat\n",
      "........................\n",
      "Querying repository jupyter_client\n",
      "..................................................\n",
      "......\n",
      "Querying repository notebook\n",
      "..................................................\n",
      "..................................................\n",
      "..................................................\n",
      "..................................................\n",
      "...............................\n",
      "Querying repository nbconvert\n",
      "..................................................\n",
      "..........................................\n",
      "Querying repository jupyter_console\n",
      "............................\n",
      "Querying repository qtconsole\n",
      "..................................................\n",
      "..............\n",
      "Querying repository jupyter_logger\n",
      "..\n",
      "Querying repository jupyter_kernel_test\n",
      "........\n",
      "Querying repository jupyter\n",
      "........................\n",
      "Querying repository ngcm-tutorial\n",
      "......\n",
      "Querying repository scipy-advanced-tutorial\n",
      "....\n",
      "Querying repository docker-stacks\n",
      ".......................\n",
      "Querying repository lbnl-jupyterday\n",
      "....\n",
      "Querying repository jupyter-js-services\n",
      "............\n",
      "Querying repository atom-notebook\n",
      ".....\n",
      "Querying repository enhancement-proposals\n",
      ".......\n",
      "Querying repository governance\n",
      "..........\n",
      "Querying repository jupyter-blog-theme\n",
      "..\n",
      "Querying repository kernel_gateway\n",
      "............\n",
      "Querying repository cdn.jupyter.org\n",
      "...\n",
      "Querying repository roadmap\n",
      "...............\n",
      "Querying repository mozfest15-training\n",
      "...\n",
      "Querying repository nbdime\n",
      ".......\n",
      "Querying repository jupyter-js-utils\n",
      ".........\n",
      "Querying repository kernel_gateway_demos\n",
      "........\n",
      "Querying repository newsletter\n",
      ".....\n",
      "Querying repository jupyter-sphinx-theme\n",
      ".........................\n",
      "Querying repository help\n",
      ".........\n",
      "Querying repository widget-cookiecutter\n",
      "...\n",
      "Querying repository surveys\n",
      "..\n",
      "Querying repository jupyterlab\n",
      "............................\n",
      "Querying repository experiments\n",
      ".\n",
      "Querying repository jupyter-sprints\n",
      ".\n",
      "Querying repository scipy-sprint\n",
      ".\n",
      "Querying organization IPython\n",
      "\n",
      "Querying repository ipython\n",
      "..................................................\n",
      "..................................................\n",
      "..................................................\n",
      "..................................................\n",
      "..................................................\n",
      "..................................................\n",
      "..................................................\n",
      "..................................................\n",
      "..................................................\n",
      "\n",
      "Querying repository ipython-py3k\n",
      "...................\n",
      "Querying repository ipython-doc\n",
      "..\n",
      "Querying repository ipython-website\n",
      "...............................\n",
      "Querying repository ipython.github.com\n",
      "......\n",
      "Querying repository ipython-in-depth\n",
      "...............\n",
      "Querying repository talks\n",
      "..\n",
      "Querying repository marketing\n",
      "....\n",
      "Querying repository paper-notebook2013\n",
      "..\n",
      "Querying repository xkcd-font\n",
      ".....\n",
      "Querying repository salt-states-nbviewer\n",
      "....\n",
      "Querying repository traitlets\n",
      ".........................................\n",
      "Querying repository sloan-2013-reports\n",
      "..\n",
      "Querying repository usersurveys\n",
      ".\n",
      "Querying repository ipython-ansible-jenkins\n",
      "...\n",
      "Querying repository front-to-back\n",
      "..\n",
      "Querying repository mozfest2014\n",
      "...\n",
      "Querying repository ipython_genutils\n",
      "........................\n",
      "Querying repository ipyparallel\n",
      "..................................................\n",
      "..................\n",
      "Querying repository ipykernel\n",
      "..................................................\n",
      ".............\n",
      "Querying repository ipywidgets\n",
      "..................................................\n",
      "..........\n",
      "Querying organization The Jupyter Attic\n",
      "\n",
      "Querying repository jsplugins\n",
      "..\n",
      "Querying repository ipython-components\n",
      "..........\n",
      "Querying repository etph\n",
      ".\n",
      "Querying repository docker-notebook\n",
      "..............\n",
      "Querying repository nbindex\n",
      "..\n",
      "Querying repository nbshot\n",
      "..\n",
      "Querying repository phosphor-notebook\n",
      ".....\n",
      "Querying repository spreadsheet\n",
      "....\n",
      "Querying repository jupyter-js-output-area\n",
      "......\n",
      "Querying repository jupyter-js-input-area\n",
      ".....\n",
      "Querying repository jupyter-js-cells\n",
      "...\n",
      "Querying repository jupyter-js-notebook\n",
      ".......\n",
      "Querying repository jupyter-js-filebrowser\n",
      "......\n",
      "Querying repository jupyter-js-editor\n",
      "...\n",
      "Querying repository jupyter-js-terminal\n",
      ".....\n",
      "Querying repository jupyter-js-phosphide\n",
      "...\n",
      "Querying repository jupyter-js-plugins\n",
      "..........\n",
      "Querying repository jupyter-js-domutils\n",
      "...\n",
      "Querying repository jupyter-js-docmanager\n",
      "...\n",
      "Querying repository jupyter-js-ui\n",
      ".......\n",
      "Querying organization JupyterHub\n",
      "\n",
      "Querying repository jupyterhub\n",
      "...............................................\n",
      "Querying repository configurable-http-proxy\n",
      "......\n",
      "Querying repository oauthenticator\n",
      "................\n",
      "Querying repository dockerspawner\n",
      ".......................\n",
      "Querying repository sudospawner\n",
      ".....\n",
      "Querying repository batchspawner\n",
      ".....\n",
      "Querying repository ldapauthenticator\n",
      ".\n",
      "Querying repository jupyterhub-deploy-docker\n",
      "...\n",
      "Querying repository jupyterhub-deploy-teaching\n",
      "....\n",
      "Querying repository jupyterhub-carina\n",
      "...\n",
      "Querying repository jupyterhub-tutorial\n",
      "....\n",
      "Querying repository jupyterhub-2016-workshop\n",
      ".............\n",
      "Querying repository jupyterhub-deploy-hpc\n",
      ".."
     ]
    }
   ],
   "source": [
    "org_map, org_locations, org_metadata = getorg.orgmap.map_orgs(gh, orgs, debug=2)"
   ]
  },
  {
   "cell_type": "code",
   "execution_count": 5,
   "metadata": {
    "collapsed": false,
    "scrolled": true
   },
   "outputs": [
    {
     "data": {
      "text/plain": [
       "{'duplicate_count': 588,\n",
       " 'error_count': 0,\n",
       " 'no_loc_count': 649,\n",
       " 'user_loc_count': 726}"
      ]
     },
     "execution_count": 5,
     "metadata": {},
     "output_type": "execute_result"
    }
   ],
   "source": [
    "org_metadata"
   ]
  },
  {
   "cell_type": "markdown",
   "metadata": {},
   "source": [
    "## Displaying the map\n",
    "In a Jupyter notebook with ipyleaflet support, we can display the map by referring to the org_map object. Note that these do not always render well if you are not running a notebook on a Jupyter server (i.e. if you are viewing this on github or nbviewer), so I've added a screenshot image to show what it looks like."
   ]
  },
  {
   "cell_type": "code",
   "execution_count": 6,
   "metadata": {
    "collapsed": false
   },
   "outputs": [
    {
     "name": "stderr",
     "output_type": "stream",
     "text": [
      "Widget Javascript not detected.  It may not be installed properly. Did you enable the widgetsnbextension? If not, then run \"jupyter nbextension enable --py --sys-prefix widgetsnbextension\"\n"
     ]
    }
   ],
   "source": [
    "org_map"
   ]
  },
  {
   "cell_type": "markdown",
   "metadata": {},
   "source": [
    "![jupyter map](jupyter-map.png)"
   ]
  },
  {
   "cell_type": "markdown",
   "metadata": {},
   "source": [
    "You can export this to embedable HTML files with the Widgets->Embed Widgets code in the Jupyter notebook menu bar.\n",
    "\n",
    "## Writing the map to a file\n",
    "But what if you don't have ipyleaflet support or don't want to have to spend a long time querying in a Jupyter notebook every time you want to display the map? We can write the locations to a file with two getorg.orgmap methods. Then we can display these points using whatever mapping software we want.\n",
    "\n",
    "In both of the following methods, I am setting the hashed_usernames option to True, which outputs a SHA1 hash of the username in the data file instead of the username. I'm doing this because I haven't fully thought out the privacy implications of putting people's usernames on a map, even if Github data is public and accessible. It is something to think about.\n",
    "### location_dict_to_jsvar\n",
    "This outputs to a single Javascript variable, for use with the markercluster HTML / Javascript file in this directory.\n"
   ]
  },
  {
   "cell_type": "code",
   "execution_count": 8,
   "metadata": {
    "collapsed": false
   },
   "outputs": [
    {
     "data": {
      "text/plain": [
       "'Written to jupyter-locations.js'"
      ]
     },
     "execution_count": 8,
     "metadata": {},
     "output_type": "execute_result"
    }
   ],
   "source": [
    "getorg.orgmap.location_dict_to_jsvar(org_locations, \"jupyter-locations.js\", hashed_usernames=True)"
   ]
  },
  {
   "cell_type": "markdown",
   "metadata": {
    "collapsed": true
   },
   "source": [
    "### location_dict_to_csv\n",
    "This is a similar syntax, but just outputs to a CSV file instead"
   ]
  },
  {
   "cell_type": "code",
   "execution_count": 9,
   "metadata": {
    "collapsed": false
   },
   "outputs": [
    {
     "data": {
      "text/plain": [
       "'Written to jupyter-locations.csv'"
      ]
     },
     "execution_count": 9,
     "metadata": {},
     "output_type": "execute_result"
    }
   ],
   "source": [
    "getorg.orgmap.location_dict_to_csv(org_locations, \"jupyter-locations.csv\", hashed_usernames=True)"
   ]
  },
  {
   "cell_type": "markdown",
   "metadata": {
    "collapsed": true
   },
   "source": [
    "## Plotting data files using a markercluster HTML / Javascript page\n",
    "We want a nice clustered map, so that we can represent the denser regions. Right now, the ~20 points at the center of Berkeley, California are all layered on top of each other. There is a [nice markercluster package](https://github.com/Leaflet/Leaflet.markercluster) that lets us do this, but just in standalone HTML files, not in Jupyter notebooks. So we are going to take that exported jsvar file with all the location data and import it into an HTML file running this markercluster script.\n",
    "\n",
    "To set this up on a web server, it is best to just copy all the files in the examples/orgmap/ folder into something publicly-accessible, making sure to include the /leaflet_dist/ folder. The HTML file relies on a set of files in the /leaflet_dist/ folder to do the clustering. This also copies this Jupyter notebook, so you might want to remove it.\n",
    "\n",
    "The HTML file has two parts: a header where all the scripts and stylesheets are imported, and a body that displays the map and any other text. \n",
    "\n",
    "In the head, the last script line points to the js file we just outputted. Change it to whatever you named your output file. You don't need to change anything else in the body if you want it to default to a zoomed out map of the world.\n",
    "\n",
    "    <html>\n",
    "    <head>\n",
    "        <title>Maps</title>\n",
    "\n",
    "        <link rel=\"stylesheet\" href=\"https://cdnjs.cloudflare.com/ajax/libs/leaflet/1.0.0-beta.2/leaflet.css\" />\n",
    "        <script src=\"https://cdnjs.cloudflare.com/ajax/libs/leaflet/1.0.0-beta.2/leaflet.js\"></script>\n",
    "        <meta name=\"viewport\" content=\"width=device-width, initial-scale=1.0\">\n",
    "        <link rel=\"stylesheet\" href=\"leaflet_dist/screen.css\" />\n",
    "\n",
    "        <link rel=\"stylesheet\" href=\"leaflet_dist/MarkerCluster.css\" />\n",
    "        <link rel=\"stylesheet\" href=\"leaflet_dist/MarkerCluster.Default.css\" />\n",
    "        <script src=\"leaflet_dist/leaflet.markercluster-src.js\"></script>\n",
    "        <script src=\"jupyter-locations.js\"></script>\n",
    "\n",
    "    </head>\n",
    "    \n",
    "    <body>\n",
    "    \n",
    "    \t<div id=\"map\"></div>\n",
    "        <script type=\"text/javascript\">\n",
    "\n",
    "\t\tvar tiles = L.tileLayer('http://server.arcgisonline.com/ArcGIS/rest/services/World_Street_Map/MapServer/tile/{z}/{y}/{x}', {\n",
    "        maxZoom: 18,\n",
    "        attribution: 'Tiles &copy; Esri &mdash; Source: Esri, DeLorme, NAVTEQ, USGS, Intermap, iPC, NRCAN, Esri Japan, METI, Esri China (Hong Kong), Esri (Thailand), TomTom, 2012'}),\n",
    "\t\tlatlng = L.latLng(30, 10);\n",
    "\n",
    "\t\tvar map = L.map('map', {center: latlng, zoom: 0.7, layers: [tiles]});\n",
    "\n",
    "\t\tvar markers = L.markerClusterGroup({\n",
    "\t\t\tshowCoverageOnHover: false,\n",
    "\t\t\tmaxClusterRadius: 80\n",
    "\t\t\t});\n",
    "\n",
    "\t\tfor (var i = 0; i < addressPoints.length; i++) {\n",
    "\t\t\tvar a = addressPoints[i];\n",
    "\t\t\tvar title = a[0];\n",
    "\t\t\tvar marker = L.marker(new L.LatLng(a[1], a[2]), { title: title });\n",
    "\t\t\tmarker.bindPopup(title);\n",
    "\t\t\tmarkers.addLayer(marker);\n",
    "\t\t}\n",
    "\t\tmap.addLayer(markers);\n",
    "\t\tmap.zoomIn();\n",
    "\n",
    "\t</script>\n",
    "    </body>\n",
    "    </html>\n",
    "\n"
   ]
  },
  {
   "cell_type": "markdown",
   "metadata": {},
   "source": [
    "You can see the results in [this webpage](https://getorg.github.io/jupyter_map/), which I've screenshotted below:\n",
    "![jupytermap](markercluster.png)"
   ]
  },
  {
   "cell_type": "code",
   "execution_count": null,
   "metadata": {
    "collapsed": true
   },
   "outputs": [],
   "source": []
  }
 ],
 "metadata": {
  "kernelspec": {
   "display_name": "Python 3",
   "language": "python",
   "name": "python3"
  },
  "language_info": {
   "codemirror_mode": {
    "name": "ipython",
    "version": 3
   },
   "file_extension": ".py",
   "mimetype": "text/x-python",
   "name": "python",
   "nbconvert_exporter": "python",
   "pygments_lexer": "ipython3",
   "version": "3.5.1"
  }
 },
 "nbformat": 4,
 "nbformat_minor": 1
}
