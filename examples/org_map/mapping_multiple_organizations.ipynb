{
 "cells": [
  {
   "cell_type": "markdown",
   "metadata": {},
   "source": [
    "# Mapping multiple organizations with getorg\n",
    "## Installing and importing libraries\n",
    "We need a few packages for this, which can be installed with pip"
   ]
  },
  {
   "cell_type": "code",
   "execution_count": 1,
   "metadata": {
    "collapsed": false,
    "scrolled": true
   },
   "outputs": [
    {
     "name": "stdout",
     "output_type": "stream",
     "text": [
      "Requirement already satisfied (use --upgrade to upgrade): getorg in /home/mam/getorg\n",
      "Requirement already satisfied (use --upgrade to upgrade): ipyleaflet in /home/mam/anaconda3/lib/python3.5/site-packages\n",
      "Requirement already satisfied (use --upgrade to upgrade): pygithub in /home/mam/anaconda3/lib/python3.5/site-packages (from getorg)\n",
      "Requirement already satisfied (use --upgrade to upgrade): geopy in /home/mam/anaconda3/lib/python3.5/site-packages (from getorg)\n",
      "Requirement already satisfied (use --upgrade to upgrade): retrying in /home/mam/anaconda3/lib/python3.5/site-packages (from getorg)\n",
      "Requirement already satisfied (use --upgrade to upgrade): ipywidgets>=5.1.5 in /home/mam/anaconda3/lib/python3.5/site-packages (from ipyleaflet)\n",
      "Requirement already satisfied (use --upgrade to upgrade): six>=1.7.0 in /home/mam/anaconda3/lib/python3.5/site-packages (from retrying->getorg)\n",
      "Requirement already satisfied (use --upgrade to upgrade): traitlets>=4.2.1 in /home/mam/anaconda3/lib/python3.5/site-packages (from ipywidgets>=5.1.5->ipyleaflet)\n",
      "Requirement already satisfied (use --upgrade to upgrade): ipython>=4.0.0 in /home/mam/anaconda3/lib/python3.5/site-packages (from ipywidgets>=5.1.5->ipyleaflet)\n",
      "Requirement already satisfied (use --upgrade to upgrade): ipykernel>=4.2.2 in /home/mam/anaconda3/lib/python3.5/site-packages (from ipywidgets>=5.1.5->ipyleaflet)\n",
      "Requirement already satisfied (use --upgrade to upgrade): widgetsnbextension>=1.2.6 in /home/mam/anaconda3/lib/python3.5/site-packages (from ipywidgets>=5.1.5->ipyleaflet)\n",
      "Requirement already satisfied (use --upgrade to upgrade): ipython-genutils in /home/mam/anaconda3/lib/python3.5/site-packages (from traitlets>=4.2.1->ipywidgets>=5.1.5->ipyleaflet)\n",
      "Requirement already satisfied (use --upgrade to upgrade): decorator in /home/mam/anaconda3/lib/python3.5/site-packages (from traitlets>=4.2.1->ipywidgets>=5.1.5->ipyleaflet)\n",
      "Requirement already satisfied (use --upgrade to upgrade): pickleshare in /home/mam/anaconda3/lib/python3.5/site-packages (from ipython>=4.0.0->ipywidgets>=5.1.5->ipyleaflet)\n",
      "Requirement already satisfied (use --upgrade to upgrade): pexpect; sys_platform != \"win32\" in /home/mam/anaconda3/lib/python3.5/site-packages (from ipython>=4.0.0->ipywidgets>=5.1.5->ipyleaflet)\n",
      "Requirement already satisfied (use --upgrade to upgrade): prompt-toolkit<2.0.0,>=1.0.3 in /home/mam/anaconda3/lib/python3.5/site-packages (from ipython>=4.0.0->ipywidgets>=5.1.5->ipyleaflet)\n",
      "Requirement already satisfied (use --upgrade to upgrade): simplegeneric>0.8 in /home/mam/anaconda3/lib/python3.5/site-packages (from ipython>=4.0.0->ipywidgets>=5.1.5->ipyleaflet)\n",
      "Requirement already satisfied (use --upgrade to upgrade): setuptools>=18.5 in /home/mam/anaconda3/lib/python3.5/site-packages (from ipython>=4.0.0->ipywidgets>=5.1.5->ipyleaflet)\n",
      "Requirement already satisfied (use --upgrade to upgrade): pygments in /home/mam/anaconda3/lib/python3.5/site-packages (from ipython>=4.0.0->ipywidgets>=5.1.5->ipyleaflet)\n",
      "Requirement already satisfied (use --upgrade to upgrade): notebook>=4.2.0 in /home/mam/notebook (from widgetsnbextension>=1.2.6->ipywidgets>=5.1.5->ipyleaflet)\n",
      "Requirement already satisfied (use --upgrade to upgrade): ptyprocess>=0.5 in /home/mam/anaconda3/lib/python3.5/site-packages (from pexpect; sys_platform != \"win32\"->ipython>=4.0.0->ipywidgets>=5.1.5->ipyleaflet)\n",
      "Requirement already satisfied (use --upgrade to upgrade): wcwidth in /home/mam/anaconda3/lib/python3.5/site-packages (from prompt-toolkit<2.0.0,>=1.0.3->ipython>=4.0.0->ipywidgets>=5.1.5->ipyleaflet)\n",
      "Requirement already satisfied (use --upgrade to upgrade): jinja2 in /home/mam/anaconda3/lib/python3.5/site-packages (from notebook>=4.2.0->widgetsnbextension>=1.2.6->ipywidgets>=5.1.5->ipyleaflet)\n",
      "Requirement already satisfied (use --upgrade to upgrade): tornado>=4 in /home/mam/anaconda3/lib/python3.5/site-packages (from notebook>=4.2.0->widgetsnbextension>=1.2.6->ipywidgets>=5.1.5->ipyleaflet)\n",
      "Requirement already satisfied (use --upgrade to upgrade): jupyter_core in /home/mam/anaconda3/lib/python3.5/site-packages (from notebook>=4.2.0->widgetsnbextension>=1.2.6->ipywidgets>=5.1.5->ipyleaflet)\n",
      "Requirement already satisfied (use --upgrade to upgrade): jupyter_client in /home/mam/anaconda3/lib/python3.5/site-packages (from notebook>=4.2.0->widgetsnbextension>=1.2.6->ipywidgets>=5.1.5->ipyleaflet)\n",
      "Requirement already satisfied (use --upgrade to upgrade): nbformat in /home/mam/anaconda3/lib/python3.5/site-packages (from notebook>=4.2.0->widgetsnbextension>=1.2.6->ipywidgets>=5.1.5->ipyleaflet)\n",
      "Requirement already satisfied (use --upgrade to upgrade): nbconvert in /home/mam/anaconda3/lib/python3.5/site-packages (from notebook>=4.2.0->widgetsnbextension>=1.2.6->ipywidgets>=5.1.5->ipyleaflet)\n",
      "Requirement already satisfied (use --upgrade to upgrade): terminado>=0.3.3 in /home/mam/anaconda3/lib/python3.5/site-packages (from notebook>=4.2.0->widgetsnbextension>=1.2.6->ipywidgets>=5.1.5->ipyleaflet)\n",
      "Requirement already satisfied (use --upgrade to upgrade): MarkupSafe in /home/mam/anaconda3/lib/python3.5/site-packages (from jinja2->notebook>=4.2.0->widgetsnbextension>=1.2.6->ipywidgets>=5.1.5->ipyleaflet)\n",
      "Requirement already satisfied (use --upgrade to upgrade): pyzmq>=13 in /home/mam/anaconda3/lib/python3.5/site-packages (from jupyter_client->notebook>=4.2.0->widgetsnbextension>=1.2.6->ipywidgets>=5.1.5->ipyleaflet)\n",
      "Requirement already satisfied (use --upgrade to upgrade): mistune!=0.6 in /home/mam/anaconda3/lib/python3.5/site-packages (from nbconvert->notebook>=4.2.0->widgetsnbextension>=1.2.6->ipywidgets>=5.1.5->ipyleaflet)\n",
      "Requirement already satisfied (use --upgrade to upgrade): entrypoints in /home/mam/anaconda3/lib/python3.5/site-packages (from nbconvert->notebook>=4.2.0->widgetsnbextension>=1.2.6->ipywidgets>=5.1.5->ipyleaflet)\n",
      "IPywidgets and ipyleaflet support enabled.\n"
     ]
    }
   ],
   "source": [
    "!pip install getorg ipyleaflet\n",
    "import getorg"
   ]
  },
  {
   "cell_type": "markdown",
   "metadata": {},
   "source": [
    "To access the Github API, we use an object provided by pygithub. To make more than 60 queries per hour, you need to log in with your Github account. You can do this with your username and password by:\n",
    "\n",
    "    gh = Github(login_or_token=your_username, password=your_password).\n",
    "However, the better way is to [get an API token](https://github.com/settings/tokens) (you don't have to grant it any privileges to query public repositories) and pass this token. I've got mine stored in a file called ghlogin.py (which I have not uploaded to Github), which I import."
   ]
  },
  {
   "cell_type": "code",
   "execution_count": 2,
   "metadata": {
    "collapsed": false
   },
   "outputs": [],
   "source": [
    "from github import Github\n",
    "import ghlogin\n",
    "gh = Github(login_or_token=ghlogin.gh_key)"
   ]
  },
  {
   "cell_type": "markdown",
   "metadata": {},
   "source": [
    "## Working with the orgmap module\n",
    "\n",
    "With this getorg notebook, we are working with the orgmap module, so all the functions are called with a prefix of:\n",
    "\n",
    "    getorg.orgmap.\n",
    "    \n",
    "The functions we will be using are:\n",
    "\n",
    "    getorg.orgmap.map_orgs()\n",
    "    getorg.orgmap.location_dict_to_csv()\n",
    "    getorg.orgmap.location_dict_to_jsvar()\n",
    "    \n",
    "## The map_orgs function\n",
    "\n",
    "### Parameters\n",
    "\n",
    "The getorg.orgmap.map_orgs function takes in two to four parameters:\n",
    "* github_obj: a Github API object, which we created when we logged in in the previous cell\n",
    "* org_list_or_object: A list of strings containing the names of organizations to map, a string containing a single organization, or a Github organization object\n",
    "* debug: A debug level (optional). \n",
    "  * 0 is silent, no output\n",
    "  * 1 (default) prints the name of the org queried and one character per contributor queried: . for success, E for error\n",
    "  * 2 (what we are calling here) prints everything in level 1, as well as the name of the repository queried\n",
    "  * 3 prints everything in level 2, as well as the location of each contributor or the error raised\n",
    "* exclude_usernames (optional): A list of strings containing usernames to exclude from the map and location dictionary\n",
    "  \n",
    "### Returned values\n",
    "\n",
    "The map_orgs function returns three objects:\n",
    "* org_map: an ipyleaflet Map object that will display inline in a Jupyter notebook (type: ipyleaflet.leaflet.Map)\n",
    "* org_locations: a dictionary with the key value pairs { Github username URL : geopy Location object }\n",
    "  * Note: geopy Location objects have many features. You can find the latitude and longitude in loc.latitude / loc.longitude, for example.\n",
    "* org_metadata: a dictionary with four key value pairs:\n",
    "  * user_loc_count: the number of unique usernames in the map and location dictionary\n",
    "  * error_count: the number of times an error was thrown when querying a contributor's location\n",
    "  * no_loc_count: the number of users who have no location set in their Github profile\n",
    "  * duplicate_count: the number of times a username was found in multiple repositories \n",
    "\n",
    "### Using %time magic\n",
    "\n",
    "Then in calling the function, we are using the **%time** command in Jupyter notebooks, which you can put before any command to have python measure how long it takes to execute the function. We see it takes 23 minutes of 'wall time' to get all the contributor locations for each of these organizations."
   ]
  },
  {
   "cell_type": "markdown",
   "metadata": {},
   "source": [
    "### Example: querying Jupyter and IPython organizations\n",
    "We first create a list containing strings of all the organizations. You can also just send a single organization, in either a list of one or just a string."
   ]
  },
  {
   "cell_type": "code",
   "execution_count": 3,
   "metadata": {
    "collapsed": true
   },
   "outputs": [],
   "source": [
    "orgs = [\"jupyter\",\"ipython\",\"jupyter-attic\",\"jupyterhub\"]"
   ]
  },
  {
   "cell_type": "markdown",
   "metadata": {
    "collapsed": false
   },
   "source": [
    "Then we call the method, with the github object, list of organizations, and optional debug and excluded username parameters. Note: it takes 20-30 minutes of 'wall time' to get all the contributor locations for each of these organizations."
   ]
  },
  {
   "cell_type": "code",
   "execution_count": 4,
   "metadata": {
    "collapsed": false
   },
   "outputs": [
    {
     "name": "stdout",
     "output_type": "stream",
     "text": [
      "\n",
      "Querying organization Project Jupyter\n",
      "\n",
      "Querying repository nbviewer\n",
      "............................................\n",
      "Querying repository nbconvert-examples\n",
      ".....\n",
      "Querying repository colaboratory\n",
      ".............\n",
      "Querying repository jupyter.github.io\n",
      "...................\n",
      "Querying repository design\n",
      ".........\n",
      "Querying repository nbcache\n",
      "..\n",
      "Querying repository nbgrader\n",
      "............\n",
      "Querying repository tmpnb\n",
      ".....................\n",
      "Querying repository nature-demo\n",
      "......\n",
      "Querying repository jupyter-drive\n",
      ".........\n",
      "Querying repository tmpnb-redirector\n",
      "...\n",
      "Querying repository tmpnb-deploy\n",
      "...\n",
      "Querying repository docker-demo-images\n",
      "......................\n",
      "Querying repository try.jupyter.org\n",
      "...\n",
      "Querying repository strata-sv-2015-tutorial\n",
      "..\n",
      "Querying repository testpath\n",
      ".\n",
      "Querying repository scipy-2015-advanced-topics\n",
      ".\n",
      "Querying repository jupyter_core\n",
      "..............\n",
      "Querying repository nbformat\n",
      "........................\n",
      "Querying repository jupyter_client\n",
      "..................................................\n",
      "......\n",
      "Querying repository notebook\n",
      "..................................................\n",
      "..................................................\n",
      "..................................................\n",
      "..................................................\n",
      "..............................\n",
      "Querying repository nbconvert\n",
      "..................................................\n",
      "..........................................\n",
      "Querying repository jupyter_console\n",
      "............................\n",
      "Querying repository qtconsole\n",
      "..................................................\n",
      "..............\n",
      "Querying repository jupyter_logger\n",
      "..\n",
      "Querying repository jupyter_kernel_test\n",
      "........\n",
      "Querying repository jupyter\n",
      "........................\n",
      "Querying repository ngcm-tutorial\n",
      "......\n",
      "Querying repository scipy-advanced-tutorial\n",
      "....\n",
      "Querying repository docker-stacks\n",
      ".......................\n",
      "Querying repository lbnl-jupyterday\n",
      "....\n",
      "Querying repository jupyter-js-services\n",
      "............\n",
      "Querying repository atom-notebook\n",
      ".....\n",
      "Querying repository enhancement-proposals\n",
      ".......\n",
      "Querying repository governance\n",
      "..........\n",
      "Querying repository jupyter-blog-theme\n",
      "..\n",
      "Querying repository kernel_gateway\n",
      "............\n",
      "Querying repository cdn.jupyter.org\n",
      "...\n",
      "Querying repository roadmap\n",
      "...............\n",
      "Querying repository mozfest15-training\n",
      "...\n",
      "Querying repository nbdime\n",
      ".......\n",
      "Querying repository jupyter-js-utils\n",
      ".........\n",
      "Querying repository kernel_gateway_demos\n",
      "........\n",
      "Querying repository newsletter\n",
      ".....\n",
      "Querying repository jupyter-sphinx-theme\n",
      ".........................\n",
      "Querying repository help\n",
      ".........\n",
      "Querying repository widget-cookiecutter\n",
      "...\n",
      "Querying repository surveys\n",
      "..\n",
      "Querying repository jupyterlab\n",
      "............................\n",
      "Querying repository experiments\n",
      ".\n",
      "Querying repository jupyter-sprints\n",
      ".\n",
      "Querying repository scipy-sprint\n",
      ".\n",
      "Querying organization IPython\n",
      "\n",
      "Querying repository ipython\n",
      "..................................................\n",
      "..................................................\n",
      "..................................................\n",
      "..................................................\n",
      "..................................................\n",
      "..................................................\n",
      "..................................................\n",
      "..................................................\n",
      "..................................................\n",
      "\n",
      "Querying repository ipython-py3k\n",
      "...................\n",
      "Querying repository ipython-doc\n",
      "..\n",
      "Querying repository ipython-website\n",
      "...............................\n",
      "Querying repository ipython.github.com\n",
      "......\n",
      "Querying repository ipython-in-depth\n",
      "...............\n",
      "Querying repository talks\n",
      "..\n",
      "Querying repository marketing\n",
      "....\n",
      "Querying repository paper-notebook2013\n",
      "..\n",
      "Querying repository xkcd-font\n",
      ".....\n",
      "Querying repository salt-states-nbviewer\n",
      "....\n",
      "Querying repository traitlets\n",
      ".........................................\n",
      "Querying repository sloan-2013-reports\n",
      "..\n",
      "Querying repository usersurveys\n",
      ".\n",
      "Querying repository ipython-ansible-jenkins\n",
      "...\n",
      "Querying repository front-to-back\n",
      "..\n",
      "Querying repository mozfest2014\n",
      "...\n",
      "Querying repository ipython_genutils\n",
      "........................\n",
      "Querying repository ipyparallel\n",
      "..................................................\n",
      "..................\n",
      "Querying repository ipykernel\n",
      "..................................................\n",
      ".............\n",
      "Querying repository ipywidgets\n",
      "..................................................\n",
      "..........\n",
      "Querying organization The Jupyter Attic\n",
      "\n",
      "Querying repository jsplugins\n",
      "..\n",
      "Querying repository ipython-components\n",
      "..........\n",
      "Querying repository etph\n",
      ".\n",
      "Querying repository docker-notebook\n",
      "..............\n",
      "Querying repository nbindex\n",
      "..\n",
      "Querying repository nbshot\n",
      "..\n",
      "Querying repository phosphor-notebook\n",
      ".....\n",
      "Querying repository spreadsheet\n",
      "....\n",
      "Querying repository jupyter-js-output-area\n",
      "......\n",
      "Querying repository jupyter-js-input-area\n",
      ".....\n",
      "Querying repository jupyter-js-cells\n",
      "...\n",
      "Querying repository jupyter-js-notebook\n",
      ".......\n",
      "Querying repository jupyter-js-filebrowser\n",
      "......\n",
      "Querying repository jupyter-js-editor\n",
      "...\n",
      "Querying repository jupyter-js-terminal\n",
      ".....\n",
      "Querying repository jupyter-js-phosphide\n",
      "...\n",
      "Querying repository jupyter-js-plugins\n",
      "..........\n",
      "Querying repository jupyter-js-domutils\n",
      "...\n",
      "Querying repository jupyter-js-docmanager\n",
      "...\n",
      "Querying repository jupyter-js-ui\n",
      ".......\n",
      "Querying organization JupyterHub\n",
      "\n",
      "Querying repository jupyterhub\n",
      "...............................................\n",
      "Querying repository configurable-http-proxy\n",
      "......\n",
      "Querying repository oauthenticator\n",
      "................\n",
      "Querying repository dockerspawner\n",
      ".......................\n",
      "Querying repository sudospawner\n",
      ".....\n",
      "Querying repository batchspawner\n",
      ".....\n",
      "Querying repository ldapauthenticator\n",
      ".\n",
      "Querying repository jupyterhub-deploy-docker\n",
      "...\n",
      "Querying repository jupyterhub-deploy-teaching\n",
      "....\n",
      "Querying repository jupyterhub-carina\n",
      "...\n",
      "Querying repository jupyterhub-tutorial\n",
      "....\n",
      "Querying repository jupyterhub-2016-workshop\n",
      ".............\n",
      "Querying repository jupyterhub-deploy-hpc\n",
      ".."
     ]
    }
   ],
   "source": [
    "org_map, org_locations, org_metadata = getorg.orgmap.map_orgs(gh, orgs, debug=2)"
   ]
  },
  {
   "cell_type": "code",
   "execution_count": 5,
   "metadata": {
    "collapsed": false,
    "scrolled": true
   },
   "outputs": [
    {
     "data": {
      "text/plain": [
       "{'duplicate_count': 584,\n",
       " 'error_count': 0,\n",
       " 'no_loc_count': 654,\n",
       " 'user_loc_count': 724}"
      ]
     },
     "execution_count": 5,
     "metadata": {},
     "output_type": "execute_result"
    }
   ],
   "source": [
    "org_metadata"
   ]
  },
  {
   "cell_type": "markdown",
   "metadata": {},
   "source": [
    "## Displaying the map\n",
    "In a Jupyter notebook with ipyleaflet support, we can display the map by referring to the org_map object. Note that these do not always render well if you are not running a notebook on a Jupyter server (i.e. if you are viewing this on github or nbviewer)."
   ]
  },
  {
   "cell_type": "code",
   "execution_count": 6,
   "metadata": {
    "collapsed": false
   },
   "outputs": [],
   "source": [
    "org_map\n",
    "    "
   ]
  },
  {
   "cell_type": "markdown",
   "metadata": {},
   "source": [
    "You can export this to embedable HTML files with the Widgets->Embed Widgets code in the Jupyter notebook menu bar.\n",
    "\n",
    "## Writing the map to a file"
   ]
  },
  {
   "cell_type": "code",
   "execution_count": 7,
   "metadata": {
    "collapsed": false
   },
   "outputs": [
    {
     "data": {
      "text/plain": [
       "'Written to jupyter-locations.js'"
      ]
     },
     "execution_count": 7,
     "metadata": {},
     "output_type": "execute_result"
    }
   ],
   "source": [
    "getorg.orgmap.location_dict_to_jsvar(org_locations, \"jupyter-locations.js\")"
   ]
  },
  {
   "cell_type": "markdown",
   "metadata": {
    "collapsed": true
   },
   "source": [
    "For the clustered standalone HTML map, this can then be imported with the HTML / Javascript file in this directory (jupyter.html)."
   ]
  },
  {
   "cell_type": "code",
   "execution_count": null,
   "metadata": {
    "collapsed": true
   },
   "outputs": [],
   "source": []
  }
 ],
 "metadata": {
  "kernelspec": {
   "display_name": "Python 3",
   "language": "python",
   "name": "python3"
  },
  "language_info": {
   "codemirror_mode": {
    "name": "ipython",
    "version": 3
   },
   "file_extension": ".py",
   "mimetype": "text/x-python",
   "name": "python",
   "nbconvert_exporter": "python",
   "pygments_lexer": "ipython3",
   "version": "3.5.1"
  }
 },
 "nbformat": 4,
 "nbformat_minor": 1
}
