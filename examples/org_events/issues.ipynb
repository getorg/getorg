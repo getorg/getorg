{
 "cells": [
  {
   "cell_type": "markdown",
   "metadata": {},
   "source": [
    "# Querying issues\n",
    "(This is very basic functionality)\n",
    "## Importing"
   ]
  },
  {
   "cell_type": "code",
   "execution_count": 18,
   "metadata": {
    "collapsed": false
   },
   "outputs": [
    {
     "name": "stdout",
     "output_type": "stream",
     "text": [
      "Requirement already satisfied (use --upgrade to upgrade): getorg in /home/mam/getorg\n",
      "Requirement already satisfied (use --upgrade to upgrade): pygithub in /home/mam/anaconda3/lib/python3.5/site-packages (from getorg)\n",
      "Requirement already satisfied (use --upgrade to upgrade): geopy in /home/mam/anaconda3/lib/python3.5/site-packages (from getorg)\n",
      "Requirement already satisfied (use --upgrade to upgrade): retrying in /home/mam/anaconda3/lib/python3.5/site-packages (from getorg)\n",
      "Requirement already satisfied (use --upgrade to upgrade): six>=1.7.0 in /home/mam/anaconda3/lib/python3.5/site-packages (from retrying->getorg)\n"
     ]
    }
   ],
   "source": [
    "!pip install getorg\n",
    "from github import Github"
   ]
  },
  {
   "cell_type": "code",
   "execution_count": 2,
   "metadata": {
    "collapsed": false
   },
   "outputs": [
    {
     "name": "stdout",
     "output_type": "stream",
     "text": [
      "IPywidgets and ipyleaflet support enabled.\n"
     ]
    }
   ],
   "source": [
    "import getorg"
   ]
  },
  {
   "cell_type": "code",
   "execution_count": 3,
   "metadata": {
    "collapsed": true
   },
   "outputs": [],
   "source": [
    "import ghlogin"
   ]
  },
  {
   "cell_type": "code",
   "execution_count": 5,
   "metadata": {
    "collapsed": false
   },
   "outputs": [],
   "source": [
    "gh = Github(login_or_token=ghlogin.gh_key)"
   ]
  },
  {
   "cell_type": "markdown",
   "metadata": {},
   "source": [
    "## The orgevents module\n",
    "### get_org_open_issues"
   ]
  },
  {
   "cell_type": "markdown",
   "metadata": {
    "collapsed": false
   },
   "source": [
    "This function lets you get all the issues that have been open, with optional parameters filtering for those open for a certain number of days and/or with at least a certain number of comments. It returns two objects: a list of issues (which are Github objects that have many properties and methods) and a dictionary with key value pairs { repository name : open issues }. "
   ]
  },
  {
   "cell_type": "code",
   "execution_count": 19,
   "metadata": {
    "collapsed": false,
    "scrolled": true
   },
   "outputs": [],
   "source": [
    "issues_list, issues_count = getorg.orgevents.get_org_open_issues(gh, \"jupyter\", days_open=365, comments=10, debug=0)"
   ]
  },
  {
   "cell_type": "code",
   "execution_count": 20,
   "metadata": {
    "collapsed": false
   },
   "outputs": [
    {
     "data": {
      "text/plain": [
       "{'design': 3, 'nbviewer': 3, 'notebook': 1, 'tmpnb': 1}"
      ]
     },
     "execution_count": 20,
     "metadata": {},
     "output_type": "execute_result"
    }
   ],
   "source": [
    "issues_count"
   ]
  },
  {
   "cell_type": "markdown",
   "metadata": {},
   "source": [
    "We can iterate through this filtered list and do some more filtering, like finding issues that have no assignee."
   ]
  },
  {
   "cell_type": "code",
   "execution_count": 21,
   "metadata": {
    "collapsed": false
   },
   "outputs": [
    {
     "name": "stdout",
     "output_type": "stream",
     "text": [
      "https://api.github.com/repos/jupyter/nbviewer/issues/402/comments 402 Running nbviewer within a corporate setting\n",
      "https://api.github.com/repos/jupyter/nbviewer/issues/316/comments 316 Cell with HTML page renders incorrectly in NBViewer\n",
      "https://api.github.com/repos/jupyter/nbviewer/issues/316/comments 316 Cell with HTML page renders incorrectly in NBViewer\n",
      "https://api.github.com/repos/jupyter/nbviewer/issues/294/comments 294 Github authentication for private repository notebook rendering\n",
      "https://api.github.com/repos/jupyter/nbviewer/issues/294/comments 294 Github authentication for private repository notebook rendering\n",
      "https://api.github.com/repos/jupyter/tmpnb/issues/107/comments 107 Allow for bursting CPUs when less users are active\n",
      "https://api.github.com/repos/jupyter/notebook/issues/170/comments 170 Getting rid of IPython global.\n"
     ]
    }
   ],
   "source": [
    "for issue in issues_list:\n",
    "    if issue.assignee is None:\n",
    "        print(issue.comments_url, issue.number, issue.title)"
   ]
  },
  {
   "cell_type": "code",
   "execution_count": null,
   "metadata": {
    "collapsed": true
   },
   "outputs": [],
   "source": []
  }
 ],
 "metadata": {
  "kernelspec": {
   "display_name": "Python 3",
   "language": "python",
   "name": "python3"
  },
  "language_info": {
   "codemirror_mode": {
    "name": "ipython",
    "version": 3
   },
   "file_extension": ".py",
   "mimetype": "text/x-python",
   "name": "python",
   "nbconvert_exporter": "python",
   "pygments_lexer": "ipython3",
   "version": "3.5.1"
  }
 },
 "nbformat": 4,
 "nbformat_minor": 1
}
