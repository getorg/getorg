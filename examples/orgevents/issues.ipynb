{
 "cells": [
  {
   "cell_type": "markdown",
   "metadata": {},
   "source": [
    "# Querying issues\n",
    "(This is very basic functionality)\n",
    "## Importing"
   ]
  },
  {
   "cell_type": "code",
   "execution_count": 1,
   "metadata": {
    "collapsed": false
   },
   "outputs": [
    {
     "name": "stdout",
     "output_type": "stream",
     "text": [
      "Requirement already satisfied (use --upgrade to upgrade): getorg in /home/mam/getorg\n",
      "Requirement already satisfied (use --upgrade to upgrade): pygithub in /home/mam/anaconda3/lib/python3.5/site-packages (from getorg)\n",
      "Requirement already satisfied (use --upgrade to upgrade): geopy in /home/mam/anaconda3/lib/python3.5/site-packages (from getorg)\n",
      "Requirement already satisfied (use --upgrade to upgrade): retrying in /home/mam/anaconda3/lib/python3.5/site-packages (from getorg)\n",
      "Requirement already satisfied (use --upgrade to upgrade): six>=1.7.0 in /home/mam/anaconda3/lib/python3.5/site-packages (from retrying->getorg)\n"
     ]
    }
   ],
   "source": [
    "!pip install getorg\n",
    "from github import Github"
   ]
  },
  {
   "cell_type": "code",
   "execution_count": 2,
   "metadata": {
    "collapsed": false
   },
   "outputs": [
    {
     "name": "stdout",
     "output_type": "stream",
     "text": [
      "IPywidgets and ipyleaflet support enabled.\n"
     ]
    }
   ],
   "source": [
    "import getorg"
   ]
  },
  {
   "cell_type": "code",
   "execution_count": 3,
   "metadata": {
    "collapsed": true
   },
   "outputs": [],
   "source": [
    "# Private ghlogin.py file\n",
    "import ghlogin"
   ]
  },
  {
   "cell_type": "code",
   "execution_count": 4,
   "metadata": {
    "collapsed": false
   },
   "outputs": [],
   "source": [
    "gh = Github(login_or_token=ghlogin.gh_key)"
   ]
  },
  {
   "cell_type": "markdown",
   "metadata": {},
   "source": [
    "## The orgevents module\n",
    "### get_org_open_issues"
   ]
  },
  {
   "cell_type": "markdown",
   "metadata": {
    "collapsed": false
   },
   "source": [
    "This function lets you get all the issues that have been open, with optional parameters filtering for those open for a certain number of days and/or with at least a certain number of comments. It returns two objects: a list of issues (which are Github objects that have many properties and methods) and a dictionary with key value pairs { repository name : open issues }. "
   ]
  },
  {
   "cell_type": "code",
   "execution_count": 10,
   "metadata": {
    "collapsed": false,
    "scrolled": true
   },
   "outputs": [],
   "source": [
    "issues_dict, issues_count = getorg.orgevents.get_org_open_issues(\n",
    "                            gh, \"jupyter\", days_open=180, comments=10, debug=0)"
   ]
  },
  {
   "cell_type": "code",
   "execution_count": 11,
   "metadata": {
    "collapsed": false
   },
   "outputs": [
    {
     "data": {
      "text/plain": [
       "{'atom-notebook': 1,\n",
       " 'design': 4,\n",
       " 'enhancement-proposals': 1,\n",
       " 'jupyter.github.io': 1,\n",
       " 'jupyter_client': 1,\n",
       " 'nbconvert': 1,\n",
       " 'nbviewer': 6,\n",
       " 'notebook': 7,\n",
       " 'tmpnb': 2}"
      ]
     },
     "execution_count": 11,
     "metadata": {},
     "output_type": "execute_result"
    }
   ],
   "source": [
    "issues_count"
   ]
  },
  {
   "cell_type": "markdown",
   "metadata": {},
   "source": [
    "We can iterate through this filtered list and do some more filtering, like finding issues that have no assignee."
   ]
  },
  {
   "cell_type": "code",
   "execution_count": 47,
   "metadata": {
    "collapsed": false
   },
   "outputs": [
    {
     "name": "stdout",
     "output_type": "stream",
     "text": [
      "2015-07-14 jupyter_client 46 comments\n",
      "#51 complete_reply message spec changes: types, values, and signatures\n",
      "https://www.github.com/jupyter/jupyter_client/issues/51\n",
      "\n",
      "2015-06-10 notebook 12 comments\n",
      "#142 exists() method for Checkpoints class\n",
      "https://www.github.com/jupyter/notebook/issues/142\n",
      "\n",
      "2013-05-08 nbviewer 19 comments\n",
      "#80 Add Disqus?\n",
      "https://www.github.com/jupyter/nbviewer/issues/80\n",
      "\n",
      "2015-10-10 notebook 14 comments\n",
      "#582 Change the docker base image (discussion)\n",
      "https://www.github.com/jupyter/notebook/issues/582\n",
      "\n",
      "2015-06-25 notebook 11 comments\n",
      "#170 Getting rid of IPython global.\n",
      "https://www.github.com/jupyter/notebook/issues/170\n",
      "\n",
      "2015-10-11 jupyter.github.io 11 comments\n",
      "#46 Change steering council language about \"ultimately make the final decisions.\"\n",
      "https://www.github.com/jupyter/jupyter.github.io/issues/46\n",
      "\n",
      "2016-01-09 nbviewer 12 comments\n",
      "#557 New html+`thebe` format\n",
      "https://www.github.com/jupyter/nbviewer/issues/557\n",
      "\n",
      "2015-06-10 notebook 14 comments\n",
      "#143 Checkpoints.create_checkpoint() should have capability to work with Model also \n",
      "https://www.github.com/jupyter/notebook/issues/143\n",
      "\n",
      "2014-07-21 nbviewer 12 comments\n",
      "#316 Cell with HTML page renders incorrectly in NBViewer\n",
      "https://www.github.com/jupyter/nbviewer/issues/316\n",
      "\n",
      "2015-02-06 nbviewer 25 comments\n",
      "#406 github links not working\n",
      "https://www.github.com/jupyter/nbviewer/issues/406\n",
      "\n",
      "2014-11-21 tmpnb 12 comments\n",
      "#107 Allow for bursting CPUs when less users are active\n",
      "https://www.github.com/jupyter/tmpnb/issues/107\n",
      "\n",
      "2014-05-27 nbviewer 17 comments\n",
      "#294 Github authentication for private repository notebook rendering\n",
      "https://www.github.com/jupyter/nbviewer/issues/294\n",
      "\n",
      "2016-01-14 notebook 13 comments\n",
      "#956 Travis Build Error.\n",
      "https://www.github.com/jupyter/notebook/issues/956\n",
      "\n",
      "2015-12-01 enhancement-proposals 42 comments\n",
      "#7 [proposal] Jupyter Extension Generator\n",
      "https://www.github.com/jupyter/enhancement-proposals/issues/7\n",
      "\n",
      "2016-01-20 atom-notebook 26 comments\n",
      "#31 'jupyter' could not be spawned. Is it installed and on your path? If so please open an issue on the package spawning the process.\n",
      "https://www.github.com/jupyter/atom-notebook/issues/31\n",
      "\n",
      "2015-01-30 nbviewer 12 comments\n",
      "#402 Running nbviewer within a corporate setting\n",
      "https://www.github.com/jupyter/nbviewer/issues/402\n",
      "\n",
      "2015-04-13 notebook 16 comments\n",
      "#7 Respect bootstrap CSS\n",
      "https://www.github.com/jupyter/notebook/issues/7\n",
      "\n",
      "2015-05-27 notebook 22 comments\n",
      "#119 Maintainable Themes\n",
      "https://www.github.com/jupyter/notebook/issues/119\n",
      "\n"
     ]
    }
   ],
   "source": [
    "for issue_url, issue in issues_dict.items():\n",
    "    if issue.assignee is None:\n",
    "        issue_date = issue.created_at.strftime(\"%Y-%m-%d\")\n",
    "        print(issue_date, issue.repository.name, issue.comments, \"comments\")\n",
    "        print(\"#\" + str(issue.number), issue.title)\n",
    "        print(issue_url + \"\\n\")"
   ]
  }
 ],
 "metadata": {
  "kernelspec": {
   "display_name": "Python 3",
   "language": "python",
   "name": "python3"
  },
  "language_info": {
   "codemirror_mode": {
    "name": "ipython",
    "version": 3
   },
   "file_extension": ".py",
   "mimetype": "text/x-python",
   "name": "python",
   "nbconvert_exporter": "python",
   "pygments_lexer": "ipython3",
   "version": "3.5.1"
  }
 },
 "nbformat": 4,
 "nbformat_minor": 1
}
